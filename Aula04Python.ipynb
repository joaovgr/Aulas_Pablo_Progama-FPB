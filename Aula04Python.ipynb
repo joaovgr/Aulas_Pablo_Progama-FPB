{
  "nbformat": 4,
  "nbformat_minor": 0,
  "metadata": {
    "colab": {
      "provenance": [],
      "authorship_tag": "ABX9TyO6cy4azXZDGDhvVU+sElAQ",
      "include_colab_link": true
    },
    "kernelspec": {
      "name": "python3",
      "display_name": "Python 3"
    },
    "language_info": {
      "name": "python"
    }
  },
  "cells": [
    {
      "cell_type": "markdown",
      "metadata": {
        "id": "view-in-github",
        "colab_type": "text"
      },
      "source": [
        "<a href=\"https://colab.research.google.com/github/joaovgr/Aulas_Progama-FPB/blob/main/Aula04Python.ipynb\" target=\"_parent\"><img src=\"https://colab.research.google.com/assets/colab-badge.svg\" alt=\"Open In Colab\"/></a>"
      ]
    },
    {
      "cell_type": "code",
      "execution_count": 3,
      "metadata": {
        "colab": {
          "base_uri": "https://localhost:8080/"
        },
        "id": "ZcVRGUR1jnJx",
        "outputId": "cf290392-05dd-440a-98a0-201cfc0edad5"
      },
      "outputs": [
        {
          "output_type": "stream",
          "name": "stdout",
          "text": [
            "True\n",
            "True\n",
            "False\n",
            "True\n",
            "False\n",
            "True\n"
          ]
        }
      ],
      "source": [
        "#Resolução dos exercícos\n",
        "\n",
        "#Tipos boleanos\n",
        "\n",
        "print(100 == (50+50))\n",
        "print(100 >= (50+50))\n",
        "print(100 > (50+50))\n",
        "print(100 <= (50+50))\n",
        "print(100 != (50+50))\n",
        "print(100 != 99)\n"
      ]
    },
    {
      "cell_type": "code",
      "source": [
        "# Se a idade for maior ou igual à 16 exiba: Pode tirar habilitação\n",
        "\n",
        "\n",
        "idade = int(input('Digite a idade: '))\n",
        "\n",
        "if(idade >= 16):\n",
        "  print('Pode tirar a habilitação!') \n",
        "else:\n",
        "  print('Vá tirar a catinga do mijo!')"
      ],
      "metadata": {
        "colab": {
          "base_uri": "https://localhost:8080/"
        },
        "id": "PtdK2tsKpPJk",
        "outputId": "abee76ae-c136-4835-bb5e-a19c46c8e3d8"
      },
      "execution_count": 12,
      "outputs": [
        {
          "output_type": "stream",
          "name": "stdout",
          "text": [
            "Digite a idade: 14\n",
            "Vá tirar a catinga do mijo!\n"
          ]
        }
      ]
    },
    {
      "cell_type": "code",
      "source": [
        "from IPython.core.error import InputRejected\n",
        "#Se for so sexo feminino \"F\", e tiver 55 anos pou mais, pode se aposentar.\n",
        "#Se for do sexo masculino \"M\", e tiver mais de 60 anos, pode se aposentar.\n",
        "\n",
        "\n",
        "sexo = input('Insira o sexo, m (masculino) ou f (Feminino): ')\n",
        "print()\n",
        "idade = int(input('Digite aqui sua idade: '))\n",
        "if((sexo == 'f' and idade >= 55) or(sexo == 'm' and idade >= 60) ):\n",
        "\n",
        " print('Pode se aposentar!')\n",
        "\n",
        "else:\n",
        "  \n",
        "  print('Ainda não pode se aposentar!')"
      ],
      "metadata": {
        "colab": {
          "base_uri": "https://localhost:8080/"
        },
        "id": "CE2IJo6wr4Hv",
        "outputId": "5cd0ce1a-d2fa-44c8-f40d-fb1441b52479"
      },
      "execution_count": 29,
      "outputs": [
        {
          "output_type": "stream",
          "name": "stdout",
          "text": [
            "Insira o sexo, m (masculino) ou f (Feminino): f\n",
            "\n",
            "Digite aqui sua idade: 54\n",
            "Ainda não pode se aposentar!\n"
          ]
        }
      ]
    },
    {
      "cell_type": "code",
      "source": [
        "#Desenvolva um algorítmo que solcite três números a, b, c.\n",
        "#Imprima na tela se a + b é menor que c.\n",
        "\n",
        "a = int(input('Digite o valor de a: '))\n",
        "print()\n",
        "b = int(input('Digite o valor de b: '))\n",
        "print()\n",
        "c = int(input('Digite o valor de c: '))\n",
        "print()\n",
        "if(a+b < c):\n",
        "  print('É menor otáro!')\n",
        "else:\n",
        "  print('É maior otáro!6')"
      ],
      "metadata": {
        "colab": {
          "base_uri": "https://localhost:8080/"
        },
        "id": "HGZdop5sv8il",
        "outputId": "33a958ff-da4a-4ee0-fa92-b8e37e11cdee"
      },
      "execution_count": 56,
      "outputs": [
        {
          "output_type": "stream",
          "name": "stdout",
          "text": [
            "Digite o valor de a: 55\n",
            "\n",
            "Digite o valor de b: 0\n",
            "\n",
            "Digite o valor de c: 32\n",
            "\n",
            "É maior otáro!\n"
          ]
        }
      ]
    },
    {
      "cell_type": "code",
      "source": [
        "#Escreva um algoritimo que rece dois valores inteiros e imprima na tela o valor maior!\n",
        "\n",
        "a = int(input('Digite o primeiro valor: '))\n",
        "b = int(input('Digite o segundo valor: '))\n",
        "\n",
        "if(a > b):\n",
        "   print('O valor ', a , 'é o maior! ')\n",
        "elif(a == b):\n",
        "  print('Os números são iguais!')\n",
        "else:\n",
        "  (print('O valor', b , 'e o maior!'))"
      ],
      "metadata": {
        "colab": {
          "base_uri": "https://localhost:8080/"
        },
        "id": "rhdN_i64yZoh",
        "outputId": "25a237e6-cc44-43f8-e013-6c1cac83a1d7"
      },
      "execution_count": 38,
      "outputs": [
        {
          "output_type": "stream",
          "name": "stdout",
          "text": [
            "Digite o primeiro valor: 55\n",
            "Digite o segundo valor: 55\n",
            "Os números são iguais!\n"
          ]
        }
      ]
    },
    {
      "cell_type": "code",
      "source": [
        "#Listas são estruturas de dados  formadas por elementos de um memso tipo\n",
        "\n",
        "numeros = [23, 5, 8 ,19, 6]\n",
        "print(numeros)"
      ],
      "metadata": {
        "colab": {
          "base_uri": "https://localhost:8080/"
        },
        "id": "bYyUJZm85qNz",
        "outputId": "e142c622-d5c5-496a-cee9-c43688b39f73"
      },
      "execution_count": 52,
      "outputs": [
        {
          "output_type": "stream",
          "name": "stdout",
          "text": [
            "[23, 5, 8, 19, 6]\n"
          ]
        }
      ]
    },
    {
      "cell_type": "code",
      "source": [
        "#Tamanho da lista:\n",
        "\n",
        "len(numeros)"
      ],
      "metadata": {
        "colab": {
          "base_uri": "https://localhost:8080/"
        },
        "id": "1rYEWWpQ7yca",
        "outputId": "11b979b4-68b2-4413-e5d8-6eda898d084a"
      },
      "execution_count": 40,
      "outputs": [
        {
          "output_type": "execute_result",
          "data": {
            "text/plain": [
              "5"
            ]
          },
          "metadata": {},
          "execution_count": 40
        }
      ]
    },
    {
      "cell_type": "code",
      "source": [
        "#Indice [23, 5, 8 ,19, 6]\n",
        "\n",
        "numeros[0]"
      ],
      "metadata": {
        "colab": {
          "base_uri": "https://localhost:8080/"
        },
        "id": "Sh5tl3fr8BvR",
        "outputId": "63905146-1a77-4575-a320-a0b0d617e5e4"
      },
      "execution_count": 53,
      "outputs": [
        {
          "output_type": "execute_result",
          "data": {
            "text/plain": [
              "23"
            ]
          },
          "metadata": {},
          "execution_count": 53
        }
      ]
    },
    {
      "cell_type": "code",
      "source": [
        "print(numeros[0])\n",
        "print(numeros[1])\n",
        "print(numeros[2])\n",
        "print(numeros[3])\n",
        "print(numeros[4])"
      ],
      "metadata": {
        "colab": {
          "base_uri": "https://localhost:8080/"
        },
        "id": "TnRWg5P_9eup",
        "outputId": "0a64a0a4-043c-4730-81b0-e4674d3f1be4"
      },
      "execution_count": 54,
      "outputs": [
        {
          "output_type": "stream",
          "name": "stdout",
          "text": [
            "23\n",
            "5\n",
            "8\n",
            "19\n",
            "6\n"
          ]
        }
      ]
    },
    {
      "cell_type": "code",
      "source": [
        "#Listas de outros tipos\n",
        "alunos = ['Mairiana', 'Luiz', 'Higor','Enzo', 'Valentina']\n",
        "print(alunos)"
      ],
      "metadata": {
        "colab": {
          "base_uri": "https://localhost:8080/"
        },
        "id": "NqpCepHw-CwX",
        "outputId": "b0273258-6361-45b7-de62-a30d779cb794"
      },
      "execution_count": 57,
      "outputs": [
        {
          "output_type": "stream",
          "name": "stdout",
          "text": [
            "['Mairiana', 'Luiz', 'Higor', 'Enzo', 'Valentina']\n"
          ]
        }
      ]
    },
    {
      "cell_type": "code",
      "source": [
        "#Alterar o valor de íntens da lista\n",
        "\n",
        "alunos[3] = 'Ivan'\n",
        "print(alunos)"
      ],
      "metadata": {
        "colab": {
          "base_uri": "https://localhost:8080/"
        },
        "id": "N2yywlUS-emn",
        "outputId": "28dc4025-f5ef-4c93-cf43-a5d842cfa78e"
      },
      "execution_count": 58,
      "outputs": [
        {
          "output_type": "stream",
          "name": "stdout",
          "text": [
            "['Mairiana', 'Luiz', 'Higor', 'Ivan', 'Valentina']\n"
          ]
        }
      ]
    },
    {
      "cell_type": "code",
      "source": [
        "#Inserir outros valores sna lista usando .append()\n",
        "alunos.append('aderbbal')\n",
        "print(alunos)\n"
      ],
      "metadata": {
        "colab": {
          "base_uri": "https://localhost:8080/"
        },
        "id": "x1z8lWRe_E1m",
        "outputId": "c8c85216-0528-43e9-c96c-ffecfdfe29e3"
      },
      "execution_count": 59,
      "outputs": [
        {
          "output_type": "stream",
          "name": "stdout",
          "text": [
            "['Mairiana', 'Luiz', 'Higor', 'Ivan', 'Valentina', 'aderbbal']\n"
          ]
        }
      ]
    },
    {
      "cell_type": "code",
      "source": [
        "#Inserir valores pelo append.input()\n",
        "\n",
        "alunos.append(input(\"digite o nome: \"))\n",
        "print(alunos)"
      ],
      "metadata": {
        "colab": {
          "base_uri": "https://localhost:8080/"
        },
        "id": "75Q3QsEG_lDt",
        "outputId": "b03c0890-dcdf-4e2a-fec9-b5f3ac547ee6"
      },
      "execution_count": 68,
      "outputs": [
        {
          "output_type": "stream",
          "name": "stdout",
          "text": [
            "digite o nome: Thauan\n",
            "['Mairiana', 'Luiz', 'Higor', 'Ivan', 'Valentina', 'aderbbal', 'João', 'João', 'Juan', 'Maria', 'Thauan']\n"
          ]
        }
      ]
    },
    {
      "cell_type": "code",
      "source": [
        "alunos.pop()\n",
        "print(alunos)"
      ],
      "metadata": {
        "colab": {
          "base_uri": "https://localhost:8080/"
        },
        "id": "7AA1zORWAxHr",
        "outputId": "956e3bda-f3f1-4e5a-cd62-e802fe555bb4"
      },
      "execution_count": 65,
      "outputs": [
        {
          "output_type": "stream",
          "name": "stdout",
          "text": [
            "['Mairiana', 'Luiz', 'Higor', 'Ivan', 'Valentina', 'aderbbal', 'João', 'João']\n"
          ]
        }
      ]
    },
    {
      "cell_type": "code",
      "source": [
        "#Descobrir se há algum avalor determinado na lista, exibir sua posição.\n",
        "nome = input(\"Digite o nome que deseja achar: \")\n",
        "\n",
        "if nome in alunos:\n",
        "  print('Tem sim!!!!!!!!!!!!!!!!!👌')\n",
        "else:\n",
        "  print('Tem não!!!!!!!!!!!!!!!!!👌')"
      ],
      "metadata": {
        "colab": {
          "base_uri": "https://localhost:8080/"
        },
        "id": "YKCOyYk-BQjy",
        "outputId": "43752917-bdcb-44f7-b554-15d2d6ad03ac"
      },
      "execution_count": 72,
      "outputs": [
        {
          "output_type": "stream",
          "name": "stdout",
          "text": [
            "Digite o nome que deseja achar: Hadamnes\n",
            "Tem não!!!!!!!!!!!!!!!!!👌\n"
          ]
        }
      ]
    }
  ]
}