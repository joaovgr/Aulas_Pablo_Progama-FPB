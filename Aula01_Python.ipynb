{
  "nbformat": 4,
  "nbformat_minor": 0,
  "metadata": {
    "colab": {
      "provenance": [],
      "authorship_tag": "ABX9TyPbm9/s6ANH4viaqzgUpgPm",
      "include_colab_link": true
    },
    "kernelspec": {
      "name": "python3",
      "display_name": "Python 3"
    },
    "language_info": {
      "name": "python"
    }
  },
  "cells": [
    {
      "cell_type": "markdown",
      "metadata": {
        "id": "view-in-github",
        "colab_type": "text"
      },
      "source": [
        "<a href=\"https://colab.research.google.com/github/joaovgr/Aulas_Progama-FPB/blob/main/Aula01_Python.ipynb\" target=\"_parent\"><img src=\"https://colab.research.google.com/assets/colab-badge.svg\" alt=\"Open In Colab\"/></a>"
      ]
    },
    {
      "cell_type": "code",
      "execution_count": null,
      "metadata": {
        "id": "tnukpttbtzG7"
      },
      "outputs": [],
      "source": []
    },
    {
      "cell_type": "markdown",
      "source": [
        "Meu primeiro Notebook de Phyton\n"
      ],
      "metadata": {
        "id": "oT9AhLMsvlyk"
      }
    },
    {
      "cell_type": "code",
      "source": [
        "print(\"Palmeiras é o melhor time do mundo!\")"
      ],
      "metadata": {
        "colab": {
          "base_uri": "https://localhost:8080/"
        },
        "id": "7H69sad0vxXW",
        "outputId": "39943660-8719-4d41-a205-59326f23099f"
      },
      "execution_count": null,
      "outputs": [
        {
          "output_type": "stream",
          "name": "stdout",
          "text": [
            "Palmeiras é o melhor time do mundo!\n"
          ]
        }
      ]
    },
    {
      "cell_type": "code",
      "source": [
        "#Variáveis\n",
        "nome = \"Palmeiras\"\n",
        "print (nome)"
      ],
      "metadata": {
        "colab": {
          "base_uri": "https://localhost:8080/"
        },
        "id": "qZ1nLwOQwN-k",
        "outputId": "7fe5deec-ed07-4cac-a378-9d4ac3ee0328"
      },
      "execution_count": null,
      "outputs": [
        {
          "output_type": "stream",
          "name": "stdout",
          "text": [
            "Palmeiras\n"
          ]
        }
      ]
    },
    {
      "cell_type": "code",
      "source": [
        "#Operações com varoiáveis\n",
        "a = 5\n",
        "b = 30\n",
        "soma  = a + b\n",
        "subtracao = a - b\n",
        "multipli = a * b\n",
        "divisao = a / b"
      ],
      "metadata": {
        "id": "JmOjc7-_w1ZI"
      },
      "execution_count": null,
      "outputs": []
    },
    {
      "cell_type": "code",
      "source": [
        "print (soma)\n",
        "print (divisao)\n",
        "print (multipli)\n",
        "print (subtracao)"
      ],
      "metadata": {
        "colab": {
          "base_uri": "https://localhost:8080/"
        },
        "id": "40IUXcl1xoJQ",
        "outputId": "c14b4fde-22b1-4f2b-81e4-86f705ba6eb3"
      },
      "execution_count": null,
      "outputs": [
        {
          "output_type": "stream",
          "name": "stdout",
          "text": [
            "35\n",
            "0.16666666666666666\n",
            "150\n",
            "-25\n"
          ]
        }
      ]
    },
    {
      "cell_type": "markdown",
      "source": [
        "#Dobro"
      ],
      "metadata": {
        "id": "FMwEPggq04h4"
      }
    },
    {
      "cell_type": "code",
      "source": [
        "a = 20\n",
        "b = 60\n",
        "c = 25\n",
        "dobro  = a * 2\n",
        "print (dobro)"
      ],
      "metadata": {
        "colab": {
          "base_uri": "https://localhost:8080/"
        },
        "id": "VvM2CE1Uyikg",
        "outputId": "f64fbb6a-326c-4561-8cbf-592e003fab84"
      },
      "execution_count": null,
      "outputs": [
        {
          "output_type": "stream",
          "name": "stdout",
          "text": [
            "40\n"
          ]
        }
      ]
    },
    {
      "cell_type": "markdown",
      "source": [
        "#Média"
      ],
      "metadata": {
        "id": "OrzvlBJp0-Nf"
      }
    },
    {
      "cell_type": "code",
      "source": [
        "nota1 = 7.2\n",
        "nota2 = 7.9\n",
        "nota3 = 9.8\n",
        "\n",
        "media = (nota1 + nota2 + nota3) /3\n",
        "\n",
        "print (f'{media:,.2f}')"
      ],
      "metadata": {
        "colab": {
          "base_uri": "https://localhost:8080/"
        },
        "id": "xszU7ibDzLWK",
        "outputId": "18461150-6f33-4057-cddc-e00b77e3eae5"
      },
      "execution_count": null,
      "outputs": [
        {
          "output_type": "stream",
          "name": "stdout",
          "text": [
            "8.30\n"
          ]
        }
      ]
    },
    {
      "cell_type": "markdown",
      "source": [
        "#Idade"
      ],
      "metadata": {
        "id": "7mtutcR_1Aav"
      }
    },
    {
      "cell_type": "code",
      "source": [
        "nascimento = 2002\n",
        "idd = 2023 - 2002\n",
        "print (idd)"
      ],
      "metadata": {
        "colab": {
          "base_uri": "https://localhost:8080/"
        },
        "id": "zYjO79nhzniC",
        "outputId": "f853974d-b23e-46d0-e409-8d5d224f1094"
      },
      "execution_count": null,
      "outputs": [
        {
          "output_type": "stream",
          "name": "stdout",
          "text": [
            "21\n"
          ]
        }
      ]
    },
    {
      "cell_type": "markdown",
      "source": [
        "#Trabalhando com input"
      ],
      "metadata": {
        "id": "z5W7FuVq2bol"
      }
    },
    {
      "cell_type": "code",
      "source": [
        "nome = int(input(\"Digite aqui o número 😉: \"))\n",
        "print()\n",
        "rstd = nome * 3\n",
        "print('O resultado é ' , rstd)"
      ],
      "metadata": {
        "colab": {
          "base_uri": "https://localhost:8080/"
        },
        "id": "icL64s452fWl",
        "outputId": "63adc849-c1bb-49a4-df58-ddf86acb94c7"
      },
      "execution_count": 1,
      "outputs": [
        {
          "output_type": "stream",
          "name": "stdout",
          "text": [
            "Digite aqui o número 😉: 35\n",
            "\n",
            "O resultado é  105\n"
          ]
        }
      ]
    },
    {
      "cell_type": "code",
      "source": [
        "nome = int(input(\"digite número em metros : \"))\n",
        "\n",
        "cm = nome * 100\n",
        "\n",
        "print(' É igual a ' , cm  ,\"cm\" )"
      ],
      "metadata": {
        "colab": {
          "base_uri": "https://localhost:8080/"
        },
        "id": "flCyKdAYn-F1",
        "outputId": "772369f9-535f-4288-a0c4-a7df597d4b06"
      },
      "execution_count": 7,
      "outputs": [
        {
          "output_type": "stream",
          "name": "stdout",
          "text": [
            "digite número em metros : 20\n",
            " É igual a  2000 cm\n"
          ]
        }
      ]
    }
  ]
}