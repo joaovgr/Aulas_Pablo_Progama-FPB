{
  "nbformat": 4,
  "nbformat_minor": 0,
  "metadata": {
    "colab": {
      "provenance": [],
      "authorship_tag": "ABX9TyMp/noYlkIug3908RrvdFB1",
      "include_colab_link": true
    },
    "kernelspec": {
      "name": "python3",
      "display_name": "Python 3"
    },
    "language_info": {
      "name": "python"
    }
  },
  "cells": [
    {
      "cell_type": "markdown",
      "metadata": {
        "id": "view-in-github",
        "colab_type": "text"
      },
      "source": [
        "<a href=\"https://colab.research.google.com/github/joaovgr/Aulas_Pablo_Progama-FPB/blob/main/aula7phyton.ipynb\" target=\"_parent\"><img src=\"https://colab.research.google.com/assets/colab-badge.svg\" alt=\"Open In Colab\"/></a>"
      ]
    },
    {
      "cell_type": "code",
      "execution_count": null,
      "metadata": {
        "colab": {
          "base_uri": "https://localhost:8080/"
        },
        "id": "5CoJSWey0x3c",
        "outputId": "d6616540-3fd8-41ee-a7ff-cb14334fc832"
      },
      "outputs": [
        {
          "output_type": "stream",
          "name": "stdout",
          "text": [
            "['zé', 'tião', 'joaquin', 'julias']\n",
            "['zé', 'tião', 'joaquin', 'julias', 'Ana', 'zabé', 'Maria']\n",
            "[2, 3, 4, 5, 6, 7, 8]\n"
          ]
        }
      ],
      "source": [
        "#Lista \n",
        "nomes = ['zé', 'tião', 'joaquin']\n",
        "nomes.append('julias')\n",
        "print(nomes)\n",
        "\n",
        "# Vários valores\n",
        "outrosnomes = ['Ana', 'zabé', 'Maria']\n",
        "nomes.extend(outrosnomes)\n",
        "print(nomes)\n",
        "\n",
        "\n",
        "# Criar uma lista de números e\n",
        "thauan = [1,2,3,4,5,6,7,8,9]\n",
        "# Remova o 1 número da lista\n",
        "thauan.remove(thauan[0])\n",
        "# Remova o último elemento da lista\n",
        "thauan.pop()\n",
        "print(thauan)\n",
        "\n"
      ]
    },
    {
      "cell_type": "code",
      "source": [
        "# crie uma lista de notas , e exiba-a da menor para maior\n",
        "\n",
        "notas = [2,3,5,6,9,10,7,6,]\n",
        "nomes = ['ademar','maristênio', 'thauan', 'thallys']\n",
        "notas.sort()\n",
        "nomes.sort(reverse=True)\n",
        "print(notas)\n",
        "print(nomes)"
      ],
      "metadata": {
        "colab": {
          "base_uri": "https://localhost:8080/"
        },
        "id": "m2AoVY0o_5dF",
        "outputId": "1d344abd-667c-4944-a59f-7555a41bbc21"
      },
      "execution_count": null,
      "outputs": [
        {
          "output_type": "stream",
          "name": "stdout",
          "text": [
            "[2, 3, 5, 6, 6, 7, 9, 10]\n",
            "['thauan', 'thallys', 'maristênio', 'ademar']\n"
          ]
        }
      ]
    },
    {
      "cell_type": "code",
      "source": [
        "# Exemplos da função map - criar uma nova lisa com o dobro\n",
        "\n",
        "numeros = [1,2,3,]\n",
        "nova_lista = list(map(lambda x : x*2, numeros))\n",
        "print(nova_lista)\n",
        "\n"
      ],
      "metadata": {
        "colab": {
          "base_uri": "https://localhost:8080/"
        },
        "id": "gG1DN2me_-vk",
        "outputId": "d7a4cedd-9616-4705-f559-f5a178b2a75b"
      },
      "execution_count": null,
      "outputs": [
        {
          "output_type": "stream",
          "name": "stdout",
          "text": [
            "[2, 4, 6]\n"
          ]
        }
      ]
    },
    {
      "cell_type": "code",
      "source": [
        "# Pegar o números lá em cima e divir pro três!\n",
        "\n",
        "numdiv = list(map(lambda x : round(x/3 ,2), numeros))\n",
        "\n",
        "print(numdiv)"
      ],
      "metadata": {
        "colab": {
          "base_uri": "https://localhost:8080/"
        },
        "id": "NHMEy_D7DMC7",
        "outputId": "981034ac-6fe1-46bd-d96a-724a1ca01d03"
      },
      "execution_count": null,
      "outputs": [
        {
          "output_type": "stream",
          "name": "stdout",
          "text": [
            "[0.33, 0.67, 1.0]\n"
          ]
        }
      ]
    },
    {
      "cell_type": "code",
      "source": [
        "# pegar cada número e somar a 2\n",
        "\n",
        "numsoma = list(map(lambda x : x+2, numeros))\n",
        "print(numsoma)"
      ],
      "metadata": {
        "colab": {
          "base_uri": "https://localhost:8080/"
        },
        "id": "L_L-cVKGEfVg",
        "outputId": "4114bf42-be5f-48d0-98bd-dfb2f297f07e"
      },
      "execution_count": null,
      "outputs": [
        {
          "output_type": "stream",
          "name": "stdout",
          "text": [
            "[3, 4, 5]\n"
          ]
        }
      ]
    },
    {
      "cell_type": "code",
      "source": [
        "# Exemplos de funçaõ filter -a partir de uma lista de nomes,\n",
        "\n",
        "nomes  = ['josé', 'matheus', 'joaquin','joão', 'thauan']\n",
        "nova_lista = list(filter(lambda x : len(x)>5, nomes))\n",
        "print(nova_lista)\n",
        "print()\n",
        "print(nomes)"
      ],
      "metadata": {
        "colab": {
          "base_uri": "https://localhost:8080/"
        },
        "id": "WzIUxNqmE52G",
        "outputId": "a929e90f-4871-44fb-c724-a2c9c39326ba"
      },
      "execution_count": null,
      "outputs": [
        {
          "output_type": "stream",
          "name": "stdout",
          "text": [
            "['matheus', 'joaquin', 'thauan']\n",
            "\n",
            "['josé', 'matheus', 'joaquin', 'joão', 'thauan']\n"
          ]
        }
      ]
    },
    {
      "cell_type": "code",
      "source": [
        "# crie uma lista de notas, e imprima apenas as notas maiores de 6\n",
        "\n",
        "notas  = [10,3,5,9,8,4,8,4,6,]\n",
        "nota = list(filter(lambda x : x > 6, notas))\n",
        "print(notas)\n",
        "print()\n",
        "print(nota)"
      ],
      "metadata": {
        "colab": {
          "base_uri": "https://localhost:8080/"
        },
        "id": "gYyJiSHCF_JT",
        "outputId": "ff7e3f66-7486-4b1f-edd7-ef6eeb9d00e1"
      },
      "execution_count": null,
      "outputs": [
        {
          "output_type": "stream",
          "name": "stdout",
          "text": [
            "[10, 3, 5, 9, 8, 4, 8, 4, 6]\n",
            "\n",
            "[10, 9, 8, 8]\n"
          ]
        }
      ]
    },
    {
      "cell_type": "code",
      "source": [
        "#faça uma lista que retorne todos os quadrados do número\n",
        "\n",
        "num = [2,3,6,9]\n",
        "num2 = list(map(lambda x : x * x,num))\n",
        "print(num2)"
      ],
      "metadata": {
        "colab": {
          "base_uri": "https://localhost:8080/"
        },
        "id": "kKLAdjYdIku2",
        "outputId": "386792dd-3284-4131-cebd-f8786edfd098"
      },
      "execution_count": null,
      "outputs": [
        {
          "output_type": "stream",
          "name": "stdout",
          "text": [
            "[4, 9, 36, 81]\n"
          ]
        }
      ]
    },
    {
      "cell_type": "code",
      "source": [
        "# Faça uma lista de nome que retorne o tamanho de cada nome\n",
        "\n",
        "nome = ['thauan','thallys', 'josé','zezin']\n",
        "nome2 = list(map(lambda x : len(x), nome))\n",
        "print(nome2)"
      ],
      "metadata": {
        "colab": {
          "base_uri": "https://localhost:8080/"
        },
        "id": "rztTbhwlJRtH",
        "outputId": "8d9da7e4-8d36-474a-eb8e-63bbdc6383f0"
      },
      "execution_count": null,
      "outputs": [
        {
          "output_type": "stream",
          "name": "stdout",
          "text": [
            "[6, 7, 4, 5]\n"
          ]
        }
      ]
    },
    {
      "cell_type": "code",
      "source": [
        "# Faça uma lista onde só retorno os números pares\n",
        "\n",
        "num = [2,3,6,5,10,45,9,80]\n",
        "num2 = list(filter(lambda x :x % 2 == 0, num))\n",
        "print(num2)"
      ],
      "metadata": {
        "colab": {
          "base_uri": "https://localhost:8080/"
        },
        "id": "ZBZ8b5kjKYzx",
        "outputId": "da1d76c9-6877-472d-a6f3-ba7b8e561ea2"
      },
      "execution_count": null,
      "outputs": [
        {
          "output_type": "stream",
          "name": "stdout",
          "text": [
            "[2, 6, 10, 80]\n"
          ]
        }
      ]
    },
    {
      "cell_type": "code",
      "source": [
        "# Faça uma lista que retorne número que contenham a letra a\n",
        "\n",
        "nomes = ['Zezin', 'João', 'osana', 'josefa', 'Gomes']\n",
        "nomes2 = list(filter(lambda x : 'a' in x , nomes))\n",
        "print(nomes2)"
      ],
      "metadata": {
        "colab": {
          "base_uri": "https://localhost:8080/"
        },
        "id": "G_58Ea3oK9__",
        "outputId": "e647bdd0-ac81-4f5c-810a-770a7f87324e"
      },
      "execution_count": null,
      "outputs": [
        {
          "output_type": "stream",
          "name": "stdout",
          "text": [
            "['osana', 'josefa']\n"
          ]
        }
      ]
    },
    {
      "cell_type": "code",
      "source": [
        "# faça uma lista de notas e retorne apenas os aprovados( notas mariores ou iguais a 7.0)\n",
        "\n",
        "notas = [2,3,6,7,8,9,10,6,8,9,7]\n",
        "notas2 = list(filter(lambda x : x >= 7, notas))\n",
        "print(notas2)"
      ],
      "metadata": {
        "colab": {
          "base_uri": "https://localhost:8080/"
        },
        "id": "anZr3AYNMop1",
        "outputId": "c8c7fbe9-984b-44ed-80e6-a07f72d7c77a"
      },
      "execution_count": null,
      "outputs": [
        {
          "output_type": "stream",
          "name": "stdout",
          "text": [
            "[7, 8, 9, 10, 8, 9, 7]\n"
          ]
        }
      ]
    },
    {
      "cell_type": "code",
      "source": [],
      "metadata": {
        "id": "3jdUahLmNTND"
      },
      "execution_count": null,
      "outputs": []
    }
  ]
}