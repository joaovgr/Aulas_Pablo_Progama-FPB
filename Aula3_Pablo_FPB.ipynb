{
  "nbformat": 4,
  "nbformat_minor": 0,
  "metadata": {
    "colab": {
      "provenance": [],
      "authorship_tag": "ABX9TyPIPn6lqLbbQ538HGOsverZ",
      "include_colab_link": true
    },
    "kernelspec": {
      "name": "python3",
      "display_name": "Python 3"
    },
    "language_info": {
      "name": "python"
    }
  },
  "cells": [
    {
      "cell_type": "markdown",
      "metadata": {
        "id": "view-in-github",
        "colab_type": "text"
      },
      "source": [
        "<a href=\"https://colab.research.google.com/github/joaovgr/Aulas_Progama-FPB/blob/main/Aula3_Pablo_FPB.ipynb\" target=\"_parent\"><img src=\"https://colab.research.google.com/assets/colab-badge.svg\" alt=\"Open In Colab\"/></a>"
      ]
    },
    {
      "cell_type": "markdown",
      "source": [
        "Teste de contas"
      ],
      "metadata": {
        "id": "HoXINrPrkstj"
      }
    },
    {
      "cell_type": "code",
      "source": [
        "a = 90\n",
        "b = 45\n",
        "\n",
        "print(a+b)\n",
        "print(a-b)\n",
        "print(a*b)\n",
        "print(a/b)\n",
        "print(a%b) #O resto da operação!\n"
      ],
      "metadata": {
        "colab": {
          "base_uri": "https://localhost:8080/"
        },
        "id": "KwjRnfIfl6P8",
        "outputId": "89b7f6c4-d0e8-4134-b598-36f719d8b0d2"
      },
      "execution_count": 1,
      "outputs": [
        {
          "output_type": "stream",
          "name": "stdout",
          "text": [
            "135\n",
            "45\n",
            "4050\n",
            "2.0\n",
            "0\n"
          ]
        }
      ]
    },
    {
      "cell_type": "code",
      "source": [
        " nome = input('Digite seu nome: ') #Strings\n",
        " print('Olá, ' + nome + '!')"
      ],
      "metadata": {
        "colab": {
          "base_uri": "https://localhost:8080/"
        },
        "id": "GdZ0S1Jnm8jm",
        "outputId": "cac323fa-3b95-4ee9-bf90-7eecddd737c5"
      },
      "execution_count": 5,
      "outputs": [
        {
          "output_type": "stream",
          "name": "stdout",
          "text": [
            "Digite seu nome: João Victor\n",
            "Olá, João Victor!\n"
          ]
        }
      ]
    },
    {
      "cell_type": "code",
      "source": [
        "#Código para dizer a idade da pessoa!\n",
        "\n",
        "nasc = input('Digite aqui sua idade: ')\n",
        "idd = 2023 - int(nasc)\n",
        "print('Sua idade é: ', idd)"
      ],
      "metadata": {
        "colab": {
          "base_uri": "https://localhost:8080/"
        },
        "id": "D8DH7wlinwKk",
        "outputId": "99085586-b799-4894-b151-e41030eaf5c9"
      },
      "execution_count": 13,
      "outputs": [
        {
          "output_type": "stream",
          "name": "stdout",
          "text": [
            "Digite aqui sua idade: 1959\n",
            "Sua idade é:  64\n"
          ]
        }
      ]
    },
    {
      "cell_type": "code",
      "source": [
        "#Solicita a altura e o peso de alguém, e retorna o IMC\n",
        "#IMC = PESO /ALTURA**2\n",
        "\n",
        "peso = float(input('Digite aqui seu peso: '))\n",
        "alt = float(input('Digite aqui a sua altura'))\n",
        "imc  = peso / (alt**2)\n",
        "print('O IMC é: ', round(imc, 2))"
      ],
      "metadata": {
        "colab": {
          "base_uri": "https://localhost:8080/"
        },
        "id": "TBTBjksspTVe",
        "outputId": "30a603b3-61d7-4cd8-ef8c-0b6a22329594"
      },
      "execution_count": 33,
      "outputs": [
        {
          "output_type": "stream",
          "name": "stdout",
          "text": [
            "Digite aqui seu peso: 83\n",
            "Digite aqui a sua altura1.65\n",
            "O IMC é:  30.49\n"
          ]
        }
      ]
    },
    {
      "cell_type": "code",
      "source": [
        "peso = float(input('Digite aqui seu peso: '))\n",
        "alt = float(input('Digite aqui a sua altura '))\n",
        "imc  = peso / (alt**2)\n",
        "if(imc < 18.5):\n",
        "  print('Abaixo do peso normal!')\n",
        "elif(imc <= 24.9 ):\n",
        "  print('Peso normal!')\n",
        "elif(imc <= 29.9):\n",
        " print('Excesso de peso!')\n",
        "elif(imc <= 34.9):\n",
        " print('Obesidade classe I!')\n",
        "elif(imc <= 39.9):\n",
        " print('Obesiadade classe II!')\n",
        "else:\n",
        " print('Obesidade classe III!')\n",
        "print()\n",
        "print('Seu IMC é: ', round(imc))"
      ],
      "metadata": {
        "colab": {
          "base_uri": "https://localhost:8080/"
        },
        "id": "3dkYyKvQ1dWc",
        "outputId": "21903a6a-1817-429b-ce76-1cc205aefbbb"
      },
      "execution_count": 64,
      "outputs": [
        {
          "output_type": "stream",
          "name": "stdout",
          "text": [
            "Digite aqui seu peso: 100\n",
            "Digite aqui a sua altura 1.83\n",
            "Excesso de peso!\n",
            "\n",
            "Seu IMC é:  30\n"
          ]
        }
      ]
    },
    {
      "cell_type": "code",
      "source": [
        "#Verificar se um número é par\n",
        "\n",
        "num = int(input('Digite o número:'))\n",
        "\n",
        "\n",
        "if(num%2 == 0):\n",
        " print('O número é par!')\n",
        "else:\n",
        " print('O número é impar')\n"
      ],
      "metadata": {
        "colab": {
          "base_uri": "https://localhost:8080/"
        },
        "id": "ucYP9KeEuT6W",
        "outputId": "6d16a29c-50fb-4783-e770-629790a14757"
      },
      "execution_count": 43,
      "outputs": [
        {
          "output_type": "stream",
          "name": "stdout",
          "text": [
            "Digite o número:20\n",
            "O número é par!\n"
          ]
        }
      ]
    },
    {
      "cell_type": "code",
      "source": [
        "a = 50\n",
        "b = 52\n",
        "print(a > b)\n",
        "print(a < b)\n",
        "print(a == b)\n",
        "print(a != b)"
      ],
      "metadata": {
        "colab": {
          "base_uri": "https://localhost:8080/"
        },
        "id": "5u6lEGpxxImE",
        "outputId": "0890f3c4-95e1-4d74-90ff-8fb05736fb0e"
      },
      "execution_count": 49,
      "outputs": [
        {
          "output_type": "stream",
          "name": "stdout",
          "text": [
            "False\n",
            "True\n",
            "False\n",
            "True\n"
          ]
        }
      ]
    },
    {
      "cell_type": "code",
      "source": [
        "# Se me um campeonato de de MMA, têm três categorias por peso\n",
        "#Galo até 70KG\n",
        "#Médio até 80KG\n",
        "#Meio pesado 90KG\n",
        "#Pesado Mais de 90KG\n",
        "peso = float(input('Digite aqui o peso do atleta: '))\n",
        "if(peso <= 70):\n",
        " print('Galo!')\n",
        "elif(peso <= 80):\n",
        " print('Médio!')\n",
        "elif(peso <= 90):\n",
        " print('Meio Pesado!')\n",
        "else:\n",
        " print('Pesado!')"
      ],
      "metadata": {
        "colab": {
          "base_uri": "https://localhost:8080/"
        },
        "id": "7Rbu693jyVki",
        "outputId": "b28c91c1-3e84-4085-8586-cb1dc8b882ea"
      },
      "execution_count": 60,
      "outputs": [
        {
          "output_type": "stream",
          "name": "stdout",
          "text": [
            "Digite aqui o peso do atleta: 100\n",
            "Pesado\n"
          ]
        }
      ]
    }
  ]
}